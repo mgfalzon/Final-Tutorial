{
 "metadata": {
  "language_info": {
   "codemirror_mode": {
    "name": "ipython",
    "version": 3
   },
   "file_extension": ".py",
   "mimetype": "text/x-python",
   "name": "python",
   "nbconvert_exporter": "python",
   "pygments_lexer": "ipython3",
   "version": "3.8.5-final"
  },
  "orig_nbformat": 2,
  "kernelspec": {
   "name": "python3",
   "display_name": "Python 3",
   "language": "python"
  }
 },
 "nbformat": 4,
 "nbformat_minor": 2,
 "cells": [
  {
   "source": [
    "# <center>Predicting Pokemon Battle Outcomes</center>\n",
    "### <center>Michael Bailey, Robert Calkins, Matt Falzon</center>\n",
    "\n",
    "<p align=\"center\">\n",
    "    <img src=\"https://github.com/mgfalzon/Final-Tutorial/blob/main/all_pokemons.png?raw=1#center\" width=\"500\" height=\"300\">\n",
    "</P>"
   ],
   "cell_type": "markdown",
   "metadata": {}
  },
  {
   "source": [
    "### <b>What are Pokémon?</b> <br>\n",
    "\n",
    "<p>\n",
    "Pokémon is a video game franchise centered around fictional creatures called 'Pokémon' which humans catch, train, and battle for sport. In the game, the player is tasked with building a team of strong Pokémon which they will use in to challenge other 'Pokemon Trainers'.\n",
    "</p>\n",
    "\n",
    "<p>\n",
    "Each Pokémon has a unique look, typing and a set of base stats. Each Pokemon can be identified by a unique number. The typing follows a rock-paper-scissors like mechanic where, for example, a Pokémon of type water has an advantage over a Pokémon of type fire. The stats determine how much health, strength and speed a Pokémon might have. Since each Pokémon is different it can be hard to tell without experience which would have an edge over another in a battle.\n",
    "</p>\n",
    "\n",
    "### <b>Why do we want to predict Pokémon battle outcomes?</b>\n",
    "\n",
    "<p>\n",
    "While predicting Pokémon battle outcome might not have a broader implication than anything passed getting better at playing Pokémon, this problem is not unlike many others we see in every day life. Sports players and teams are given a set of stats that are not unlike a set of stats given to a Charzard. If we can train a model to predict the outcome of a battle between two unique Pokémon why would we not be able to extend this to two sports teams or players?\n",
    "</p>\n",
    "\n",
    "### <b>How are we going to use Datascience?</b>\n",
    "\n",
    "<p>\n",
    "This tutorial seeks to explore the relationship between a pokemon's characteristics and win percentage in 100 simulated battles. In order to preform our analysis we'll be looking at 3 characterstics, a pokemon's type, their base stats, and finally their legendary status. We want to know if we can use these characterstics in order to predict the outcome of future battles. The Kaggle dataset 'Pokemon-Weedle's Cave' by user terminus7 contains two files which will be used to preform our analysis. The first file contains the pokemon charactersitics and the second one contains information about previous battles.\n",
    "</p>\n",
    "\n",
    "\n",
    "### <b>Technology</b>\n",
    "\n",
    "In this tutorial we'll be using the following python libraries. Feel free to follow these links to learn more!\n",
    "\n",
    "- [Python](https://www.python.org/)\n",
    "- [pandas](https://pandas.pydata.org/)\n",
    "- [numpy](https://numpy.org/)\n",
    "- [matplotlib](https://matplotlib.org/)\n",
    "- [Sci-Kit Learn](https://scikit-learn.org/stable/)\n",
    "- [seaborn](https://seaborn.pydata.org/)\n",
    "- [requests](https://requests.readthedocs.io/en/master/)\n",
    "\n"
   ],
   "cell_type": "markdown",
   "metadata": {}
  },
  {
   "cell_type": "code",
   "execution_count": 2,
   "metadata": {},
   "outputs": [],
   "source": [
    "import numpy as np\n",
    "import pandas as pd\n",
    "import requests\n",
    "import json\n",
    "import matplotlib.pyplot as plt\n",
    "import seaborn as sns"
   ]
  },
  {
   "source": [
    "## Data Collection\n",
    "\n",
    "We are using a dataset found on kaggle. You can find and download the CSV here: \n",
    "\n",
    "[Pokemon Weedle's Cave](https://www.kaggle.com/terminus7/pokemon-challenge)\n",
    "\n",
    "#### Data Size and Content\n",
    "\n",
    "<p>\n",
    "This dataset contains two csv files. One contains entries for all 800 pokemon listed in the generation 6 Pokedex(a digital encyclopedia of information about pokemon). Each pokemon has 6 base stats and 1 or 2 types. The table also records each pokemon's generation(which set of games a pokemon first appeared in) and their legendary status. \n",
    "\n",
    "The other dataset contains 50,000 simulated battles. The first two columns contain the ids of the combatants and the third one column contains the id of the winner. The Pokemon in the first column attacked first.\n",
    "</p>"
   ],
   "cell_type": "markdown",
   "metadata": {}
  },
  {
   "cell_type": "code",
   "execution_count": 3,
   "metadata": {},
   "outputs": [],
   "source": [
    "path = \"https://raw.githubusercontent.com/mgfalzon/Final-Tutorial/main\"\n",
    "combats = pd.read_csv(f\"{path}/combats.csv\")\n",
    "pokemon = pd.read_csv(f\"{path}/pokemon.csv\")"
   ]
  },
  {
   "cell_type": "code",
   "execution_count": 5,
   "metadata": {},
   "outputs": [
    {
     "output_type": "execute_result",
     "data": {
      "text/plain": [
       "   #           Name Type 1  Type 2  HP  Attack  Defense  Sp. Atk  Sp. Def  \\\n",
       "0  1      Bulbasaur  Grass  Poison  45      49       49       65       65   \n",
       "1  2        Ivysaur  Grass  Poison  60      62       63       80       80   \n",
       "2  3       Venusaur  Grass  Poison  80      82       83      100      100   \n",
       "3  4  Mega Venusaur  Grass  Poison  80     100      123      122      120   \n",
       "4  5     Charmander   Fire     NaN  39      52       43       60       50   \n",
       "\n",
       "   Speed  Generation  Legendary  \n",
       "0     45           1      False  \n",
       "1     60           1      False  \n",
       "2     80           1      False  \n",
       "3     80           1      False  \n",
       "4     65           1      False  "
      ],
      "text/html": "<div>\n<style scoped>\n    .dataframe tbody tr th:only-of-type {\n        vertical-align: middle;\n    }\n\n    .dataframe tbody tr th {\n        vertical-align: top;\n    }\n\n    .dataframe thead th {\n        text-align: right;\n    }\n</style>\n<table border=\"1\" class=\"dataframe\">\n  <thead>\n    <tr style=\"text-align: right;\">\n      <th></th>\n      <th>#</th>\n      <th>Name</th>\n      <th>Type 1</th>\n      <th>Type 2</th>\n      <th>HP</th>\n      <th>Attack</th>\n      <th>Defense</th>\n      <th>Sp. Atk</th>\n      <th>Sp. Def</th>\n      <th>Speed</th>\n      <th>Generation</th>\n      <th>Legendary</th>\n    </tr>\n  </thead>\n  <tbody>\n    <tr>\n      <th>0</th>\n      <td>1</td>\n      <td>Bulbasaur</td>\n      <td>Grass</td>\n      <td>Poison</td>\n      <td>45</td>\n      <td>49</td>\n      <td>49</td>\n      <td>65</td>\n      <td>65</td>\n      <td>45</td>\n      <td>1</td>\n      <td>False</td>\n    </tr>\n    <tr>\n      <th>1</th>\n      <td>2</td>\n      <td>Ivysaur</td>\n      <td>Grass</td>\n      <td>Poison</td>\n      <td>60</td>\n      <td>62</td>\n      <td>63</td>\n      <td>80</td>\n      <td>80</td>\n      <td>60</td>\n      <td>1</td>\n      <td>False</td>\n    </tr>\n    <tr>\n      <th>2</th>\n      <td>3</td>\n      <td>Venusaur</td>\n      <td>Grass</td>\n      <td>Poison</td>\n      <td>80</td>\n      <td>82</td>\n      <td>83</td>\n      <td>100</td>\n      <td>100</td>\n      <td>80</td>\n      <td>1</td>\n      <td>False</td>\n    </tr>\n    <tr>\n      <th>3</th>\n      <td>4</td>\n      <td>Mega Venusaur</td>\n      <td>Grass</td>\n      <td>Poison</td>\n      <td>80</td>\n      <td>100</td>\n      <td>123</td>\n      <td>122</td>\n      <td>120</td>\n      <td>80</td>\n      <td>1</td>\n      <td>False</td>\n    </tr>\n    <tr>\n      <th>4</th>\n      <td>5</td>\n      <td>Charmander</td>\n      <td>Fire</td>\n      <td>NaN</td>\n      <td>39</td>\n      <td>52</td>\n      <td>43</td>\n      <td>60</td>\n      <td>50</td>\n      <td>65</td>\n      <td>1</td>\n      <td>False</td>\n    </tr>\n  </tbody>\n</table>\n</div>"
     },
     "metadata": {},
     "execution_count": 5
    }
   ],
   "source": [
    "pokemon.head()"
   ]
  },
  {
   "cell_type": "code",
   "execution_count": 6,
   "metadata": {},
   "outputs": [
    {
     "output_type": "execute_result",
     "data": {
      "text/plain": [
       "   First_pokemon  Second_pokemon  Winner\n",
       "0            266             298     298\n",
       "1            702             701     701\n",
       "2            191             668     668\n",
       "3            237             683     683\n",
       "4            151             231     151"
      ],
      "text/html": "<div>\n<style scoped>\n    .dataframe tbody tr th:only-of-type {\n        vertical-align: middle;\n    }\n\n    .dataframe tbody tr th {\n        vertical-align: top;\n    }\n\n    .dataframe thead th {\n        text-align: right;\n    }\n</style>\n<table border=\"1\" class=\"dataframe\">\n  <thead>\n    <tr style=\"text-align: right;\">\n      <th></th>\n      <th>First_pokemon</th>\n      <th>Second_pokemon</th>\n      <th>Winner</th>\n    </tr>\n  </thead>\n  <tbody>\n    <tr>\n      <th>0</th>\n      <td>266</td>\n      <td>298</td>\n      <td>298</td>\n    </tr>\n    <tr>\n      <th>1</th>\n      <td>702</td>\n      <td>701</td>\n      <td>701</td>\n    </tr>\n    <tr>\n      <th>2</th>\n      <td>191</td>\n      <td>668</td>\n      <td>668</td>\n    </tr>\n    <tr>\n      <th>3</th>\n      <td>237</td>\n      <td>683</td>\n      <td>683</td>\n    </tr>\n    <tr>\n      <th>4</th>\n      <td>151</td>\n      <td>231</td>\n      <td>151</td>\n    </tr>\n  </tbody>\n</table>\n</div>"
     },
     "metadata": {},
     "execution_count": 6
    }
   ],
   "source": [
    "combats.head()"
   ]
  },
  {
   "source": [
    "## Data Processing\n",
    "\n",
    "### Tidy up Pokemon\n",
    "\n",
    "<p>\n",
    "Now that we know what our data represents, let's take a closer look at the pokemon table ensure that none of the data is missing. We will have to fill in any gabs that exist.\n",
    "</p>"
   ],
   "cell_type": "markdown",
   "metadata": {}
  },
  {
   "cell_type": "code",
   "execution_count": 7,
   "metadata": {},
   "outputs": [
    {
     "output_type": "execute_result",
     "data": {
      "text/plain": [
       "#               0\n",
       "Name            1\n",
       "Type 1          0\n",
       "Type 2        386\n",
       "HP              0\n",
       "Attack          0\n",
       "Defense         0\n",
       "Sp. Atk         0\n",
       "Sp. Def         0\n",
       "Speed           0\n",
       "Generation      0\n",
       "Legendary       0\n",
       "dtype: int64"
      ]
     },
     "metadata": {},
     "execution_count": 7
    }
   ],
   "source": [
    "pokemon.isna().sum()"
   ]
  },
  {
   "source": [
    "<p>It turns out we have one Pokemon that is missing its name. We will have to go in there and manually find and add it back. We can do this by finding the index and making a call to a Pokemon database to get the information. The missing type 2 indicates that that particular pokemon only has one type. We will leave it like that for now.</p>"
   ],
   "cell_type": "markdown",
   "metadata": {}
  },
  {
   "cell_type": "code",
   "execution_count": 8,
   "metadata": {},
   "outputs": [
    {
     "output_type": "execute_result",
     "data": {
      "text/plain": [
       "     # Name    Type 1 Type 2  HP  Attack  Defense  Sp. Atk  Sp. Def  Speed  \\\n",
       "62  63  NaN  Fighting    NaN  65     105       60       60       70     95   \n",
       "\n",
       "    Generation  Legendary  \n",
       "62           1      False  "
      ],
      "text/html": "<div>\n<style scoped>\n    .dataframe tbody tr th:only-of-type {\n        vertical-align: middle;\n    }\n\n    .dataframe tbody tr th {\n        vertical-align: top;\n    }\n\n    .dataframe thead th {\n        text-align: right;\n    }\n</style>\n<table border=\"1\" class=\"dataframe\">\n  <thead>\n    <tr style=\"text-align: right;\">\n      <th></th>\n      <th>#</th>\n      <th>Name</th>\n      <th>Type 1</th>\n      <th>Type 2</th>\n      <th>HP</th>\n      <th>Attack</th>\n      <th>Defense</th>\n      <th>Sp. Atk</th>\n      <th>Sp. Def</th>\n      <th>Speed</th>\n      <th>Generation</th>\n      <th>Legendary</th>\n    </tr>\n  </thead>\n  <tbody>\n    <tr>\n      <th>62</th>\n      <td>63</td>\n      <td>NaN</td>\n      <td>Fighting</td>\n      <td>NaN</td>\n      <td>65</td>\n      <td>105</td>\n      <td>60</td>\n      <td>60</td>\n      <td>70</td>\n      <td>95</td>\n      <td>1</td>\n      <td>False</td>\n    </tr>\n  </tbody>\n</table>\n</div>"
     },
     "metadata": {},
     "execution_count": 8
    }
   ],
   "source": [
    "missing = pokemon[pokemon['Name'].isna()]\n",
    "missing"
   ]
  },
  {
   "cell_type": "code",
   "execution_count": 10,
   "metadata": {},
   "outputs": [
    {
     "output_type": "execute_result",
     "data": {
      "text/plain": [
       "     #       Name    Type 1 Type 2  HP  Attack  Defense  Sp. Atk  Sp. Def  \\\n",
       "60  61    Golduck     Water    NaN  80      82       78       95       80   \n",
       "61  62     Mankey  Fighting    NaN  40      80       35       35       45   \n",
       "62  63        NaN  Fighting    NaN  65     105       60       60       70   \n",
       "63  64  Growlithe      Fire    NaN  55      70       45       70       50   \n",
       "\n",
       "    Speed  Generation  Legendary  \n",
       "60     85           1      False  \n",
       "61     70           1      False  \n",
       "62     95           1      False  \n",
       "63     60           1      False  "
      ],
      "text/html": "<div>\n<style scoped>\n    .dataframe tbody tr th:only-of-type {\n        vertical-align: middle;\n    }\n\n    .dataframe tbody tr th {\n        vertical-align: top;\n    }\n\n    .dataframe thead th {\n        text-align: right;\n    }\n</style>\n<table border=\"1\" class=\"dataframe\">\n  <thead>\n    <tr style=\"text-align: right;\">\n      <th></th>\n      <th>#</th>\n      <th>Name</th>\n      <th>Type 1</th>\n      <th>Type 2</th>\n      <th>HP</th>\n      <th>Attack</th>\n      <th>Defense</th>\n      <th>Sp. Atk</th>\n      <th>Sp. Def</th>\n      <th>Speed</th>\n      <th>Generation</th>\n      <th>Legendary</th>\n    </tr>\n  </thead>\n  <tbody>\n    <tr>\n      <th>60</th>\n      <td>61</td>\n      <td>Golduck</td>\n      <td>Water</td>\n      <td>NaN</td>\n      <td>80</td>\n      <td>82</td>\n      <td>78</td>\n      <td>95</td>\n      <td>80</td>\n      <td>85</td>\n      <td>1</td>\n      <td>False</td>\n    </tr>\n    <tr>\n      <th>61</th>\n      <td>62</td>\n      <td>Mankey</td>\n      <td>Fighting</td>\n      <td>NaN</td>\n      <td>40</td>\n      <td>80</td>\n      <td>35</td>\n      <td>35</td>\n      <td>45</td>\n      <td>70</td>\n      <td>1</td>\n      <td>False</td>\n    </tr>\n    <tr>\n      <th>62</th>\n      <td>63</td>\n      <td>NaN</td>\n      <td>Fighting</td>\n      <td>NaN</td>\n      <td>65</td>\n      <td>105</td>\n      <td>60</td>\n      <td>60</td>\n      <td>70</td>\n      <td>95</td>\n      <td>1</td>\n      <td>False</td>\n    </tr>\n    <tr>\n      <th>63</th>\n      <td>64</td>\n      <td>Growlithe</td>\n      <td>Fire</td>\n      <td>NaN</td>\n      <td>55</td>\n      <td>70</td>\n      <td>45</td>\n      <td>70</td>\n      <td>50</td>\n      <td>60</td>\n      <td>1</td>\n      <td>False</td>\n    </tr>\n  </tbody>\n</table>\n</div>"
     },
     "metadata": {},
     "execution_count": 10
    }
   ],
   "source": [
    "#Take a look at the surrounding Pokemon\n",
    "miss_id = missing.index[0]\n",
    "pokemon[miss_id - 2 : miss_id + 2]"
   ]
  },
  {
   "source": [
    "<p>\n",
    "The missing pokemon follows Mankey in our dataset, and has the same type as Mankey. Based on these observations our missing pokemon and Mankey might be related.\n",
    "\n",
    "In order to identify our missing pokemon, let's make use of the <a href=\"https://pokeapi.co/\">PokeAPI</a>. The PokeAPI is a <a href=\"https://en.wikipedia.org/wiki/Representational_state_transfer\">RESTful API</a> containing data about all the pokemon games. If we identify the pokemon after Mankey in the pokeAPI we should be able to find our missing pokemon. \n",
    "</p>"
   ],
   "cell_type": "markdown",
   "metadata": {}
  },
  {
   "cell_type": "code",
   "execution_count": 11,
   "metadata": {},
   "outputs": [],
   "source": [
    "# pokeAPI to fetch pokemon data\n",
    "def pokeAPI(s):\n",
    "    r = requests.get(f\"https://pokeapi.co/api/v2/pokemon/{s}\")\n",
    "    return json.loads(r.content)"
   ]
  },
  {
   "cell_type": "code",
   "execution_count": 12,
   "metadata": {},
   "outputs": [
    {
     "output_type": "display_data",
     "data": {
      "text/plain": "'primeape'"
     },
     "metadata": {}
    },
    {
     "output_type": "display_data",
     "data": {
      "text/plain": "[{'slot': 1,\n  'type': {'name': 'fighting', 'url': 'https://pokeapi.co/api/v2/type/2/'}}]"
     },
     "metadata": {}
    },
    {
     "output_type": "display_data",
     "data": {
      "text/plain": "[{'base_stat': 65,\n  'effort': 0,\n  'stat': {'name': 'hp', 'url': 'https://pokeapi.co/api/v2/stat/1/'}},\n {'base_stat': 105,\n  'effort': 2,\n  'stat': {'name': 'attack', 'url': 'https://pokeapi.co/api/v2/stat/2/'}},\n {'base_stat': 60,\n  'effort': 0,\n  'stat': {'name': 'defense', 'url': 'https://pokeapi.co/api/v2/stat/3/'}},\n {'base_stat': 60,\n  'effort': 0,\n  'stat': {'name': 'special-attack',\n   'url': 'https://pokeapi.co/api/v2/stat/4/'}},\n {'base_stat': 70,\n  'effort': 0,\n  'stat': {'name': 'special-defense',\n   'url': 'https://pokeapi.co/api/v2/stat/5/'}},\n {'base_stat': 95,\n  'effort': 0,\n  'stat': {'name': 'speed', 'url': 'https://pokeapi.co/api/v2/stat/6/'}}]"
     },
     "metadata": {}
    }
   ],
   "source": [
    "# Check the pokemon after Mankey in the pokeAPI\n",
    "res = pokeAPI('mankey')\n",
    "res = pokeAPI(res['id'] + 1)\n",
    "display(res['name'], res['types'], res['stats'])"
   ]
  },
  {
   "cell_type": "code",
   "execution_count": 22,
   "metadata": {},
   "outputs": [
    {
     "output_type": "display_data",
     "data": {
      "text/plain": "'pokeAPI Data'"
     },
     "metadata": {}
    },
    {
     "output_type": "display_data",
     "data": {
      "text/plain": "          hp  attack  defense  special-attack  special-defense  speed  \\\nprimeape  65     105       60              60               70     95   \n\n              type  \nprimeape  fighting  ",
      "text/html": "<div>\n<style scoped>\n    .dataframe tbody tr th:only-of-type {\n        vertical-align: middle;\n    }\n\n    .dataframe tbody tr th {\n        vertical-align: top;\n    }\n\n    .dataframe thead th {\n        text-align: right;\n    }\n</style>\n<table border=\"1\" class=\"dataframe\">\n  <thead>\n    <tr style=\"text-align: right;\">\n      <th></th>\n      <th>hp</th>\n      <th>attack</th>\n      <th>defense</th>\n      <th>special-attack</th>\n      <th>special-defense</th>\n      <th>speed</th>\n      <th>type</th>\n    </tr>\n  </thead>\n  <tbody>\n    <tr>\n      <th>primeape</th>\n      <td>65</td>\n      <td>105</td>\n      <td>60</td>\n      <td>60</td>\n      <td>70</td>\n      <td>95</td>\n      <td>fighting</td>\n    </tr>\n  </tbody>\n</table>\n</div>"
     },
     "metadata": {}
    },
    {
     "output_type": "display_data",
     "data": {
      "text/plain": "'Pokemon Data'"
     },
     "metadata": {}
    },
    {
     "output_type": "display_data",
     "data": {
      "text/plain": "   Name    Type 1 Type 2  HP  Attack  Defense  Sp. Atk  Sp. Def  Speed\n62  NaN  Fighting    NaN  65     105       60       60       70     95",
      "text/html": "<div>\n<style scoped>\n    .dataframe tbody tr th:only-of-type {\n        vertical-align: middle;\n    }\n\n    .dataframe tbody tr th {\n        vertical-align: top;\n    }\n\n    .dataframe thead th {\n        text-align: right;\n    }\n</style>\n<table border=\"1\" class=\"dataframe\">\n  <thead>\n    <tr style=\"text-align: right;\">\n      <th></th>\n      <th>Name</th>\n      <th>Type 1</th>\n      <th>Type 2</th>\n      <th>HP</th>\n      <th>Attack</th>\n      <th>Defense</th>\n      <th>Sp. Atk</th>\n      <th>Sp. Def</th>\n      <th>Speed</th>\n    </tr>\n  </thead>\n  <tbody>\n    <tr>\n      <th>62</th>\n      <td>NaN</td>\n      <td>Fighting</td>\n      <td>NaN</td>\n      <td>65</td>\n      <td>105</td>\n      <td>60</td>\n      <td>60</td>\n      <td>70</td>\n      <td>95</td>\n    </tr>\n  </tbody>\n</table>\n</div>"
     },
     "metadata": {}
    }
   ],
   "source": [
    "# Clean stats for readability\n",
    "data = {stat['stat']['name'] : stat['base_stat'] for stat in res['stats']}\n",
    "data['type'] = res['types'][0]['type']['name']\n",
    "df = pd.DataFrame(data, [res['name']])\n",
    "display(\"pokeAPI Data\", df)\n",
    "display(\"Pokemon Data\", missing.iloc[:,1:10])"
   ]
  },
  {
   "cell_type": "code",
   "execution_count": 15,
   "metadata": {},
   "outputs": [
    {
     "output_type": "execute_result",
     "data": {
      "text/plain": [
       "     #       Name    Type 1 Type 2  HP  Attack  Defense  Sp. Atk  Sp. Def  \\\n",
       "60  61    Golduck     Water    NaN  80      82       78       95       80   \n",
       "61  62     Mankey  Fighting    NaN  40      80       35       35       45   \n",
       "62  63   Primeape  Fighting    NaN  65     105       60       60       70   \n",
       "63  64  Growlithe      Fire    NaN  55      70       45       70       50   \n",
       "\n",
       "    Speed  Generation  Legendary  \n",
       "60     85           1      False  \n",
       "61     70           1      False  \n",
       "62     95           1      False  \n",
       "63     60           1      False  "
      ],
      "text/html": "<div>\n<style scoped>\n    .dataframe tbody tr th:only-of-type {\n        vertical-align: middle;\n    }\n\n    .dataframe tbody tr th {\n        vertical-align: top;\n    }\n\n    .dataframe thead th {\n        text-align: right;\n    }\n</style>\n<table border=\"1\" class=\"dataframe\">\n  <thead>\n    <tr style=\"text-align: right;\">\n      <th></th>\n      <th>#</th>\n      <th>Name</th>\n      <th>Type 1</th>\n      <th>Type 2</th>\n      <th>HP</th>\n      <th>Attack</th>\n      <th>Defense</th>\n      <th>Sp. Atk</th>\n      <th>Sp. Def</th>\n      <th>Speed</th>\n      <th>Generation</th>\n      <th>Legendary</th>\n    </tr>\n  </thead>\n  <tbody>\n    <tr>\n      <th>60</th>\n      <td>61</td>\n      <td>Golduck</td>\n      <td>Water</td>\n      <td>NaN</td>\n      <td>80</td>\n      <td>82</td>\n      <td>78</td>\n      <td>95</td>\n      <td>80</td>\n      <td>85</td>\n      <td>1</td>\n      <td>False</td>\n    </tr>\n    <tr>\n      <th>61</th>\n      <td>62</td>\n      <td>Mankey</td>\n      <td>Fighting</td>\n      <td>NaN</td>\n      <td>40</td>\n      <td>80</td>\n      <td>35</td>\n      <td>35</td>\n      <td>45</td>\n      <td>70</td>\n      <td>1</td>\n      <td>False</td>\n    </tr>\n    <tr>\n      <th>62</th>\n      <td>63</td>\n      <td>Primeape</td>\n      <td>Fighting</td>\n      <td>NaN</td>\n      <td>65</td>\n      <td>105</td>\n      <td>60</td>\n      <td>60</td>\n      <td>70</td>\n      <td>95</td>\n      <td>1</td>\n      <td>False</td>\n    </tr>\n    <tr>\n      <th>63</th>\n      <td>64</td>\n      <td>Growlithe</td>\n      <td>Fire</td>\n      <td>NaN</td>\n      <td>55</td>\n      <td>70</td>\n      <td>45</td>\n      <td>70</td>\n      <td>50</td>\n      <td>60</td>\n      <td>1</td>\n      <td>False</td>\n    </tr>\n  </tbody>\n</table>\n</div>"
     },
     "metadata": {},
     "execution_count": 15
    }
   ],
   "source": [
    "# Update the data\n",
    "pokemon['Name'] = np.where(pokemon['Name'].isna(), 'Primeape', pokemon['Name'])\n",
    "pokemon[miss_id - 2 : miss_id + 2]"
   ]
  },
  {
   "source": [
    "### Continuity between Combats and Pokemon\n",
    "\n",
    "<p>\n",
    "Our next step is to ensure that no data is missing from the combats dataset. We also need to ensure that every Pokemon in our Pokemon table is present in the combats table. We can check this by comparing the number of unique Pokemon with the number of unique winners and losers.\n",
    "</p>\n"
   ],
   "cell_type": "markdown",
   "metadata": {}
  },
  {
   "cell_type": "code",
   "execution_count": 16,
   "metadata": {},
   "outputs": [
    {
     "output_type": "execute_result",
     "data": {
      "text/plain": [
       "First_pokemon     0\n",
       "Second_pokemon    0\n",
       "Winner            0\n",
       "dtype: int64"
      ]
     },
     "metadata": {},
     "execution_count": 16
    }
   ],
   "source": [
    "#Check if we have any missing data (We dont)\n",
    "combats.isna().sum()"
   ]
  },
  {
   "cell_type": "code",
   "execution_count": 18,
   "metadata": {},
   "outputs": [
    {
     "output_type": "stream",
     "name": "stdout",
     "text": [
      "Total Pokemon: 800\nUnqiue Winners: 783\nUnqiue Losers: 784\n"
     ]
    }
   ],
   "source": [
    "# Insert Loser column for simplification\n",
    "combats['Loser'] = pd.Series(np.where(combats['Winner'] == combats['First_pokemon'], combats['Second_pokemon'], combats['First_pokemon']))\n",
    "combats.head(3)\n",
    "\n",
    "# Get # of unique pokemon, winners, losers\n",
    "all_pokemon = np.unique(pokemon['#'])\n",
    "winners = np.unique(combats['Winner'])\n",
    "losers = np.unique(combats['Loser'])\n",
    "\n",
    "# Verify that each pokemon has at least one loss and one win\n",
    "print(f\"Total Pokemon: {len(all_pokemon)}\")\n",
    "print(f\"Unqiue Winners: {len(winners)}\")\n",
    "print(f\"Unqiue Losers: {len(losers)}\")"
   ]
  },
  {
   "source": [
    "#### A disconnect\n",
    "\n",
    "<p>\n",
    "There's 17 pokemon missing from our winners column and 16 pokemon missing from our loser column. It's possible that certain pokemon have no wins while others have no losses, so let's see if any of these pokemon don't appear as either winners or losers. If they do not, we will drop them from the table as they do not provide any insight to our analysis of battle winners and lossers.\n",
    "</p>"
   ],
   "cell_type": "markdown",
   "metadata": {}
  },
  {
   "cell_type": "code",
   "execution_count": 25,
   "metadata": {},
   "outputs": [
    {
     "output_type": "display_data",
     "data": {
      "text/plain": "[12, 33, 46, 66, 78, 90, 144, 183, 236, 322, 419, 479, 556, 618, 655, 782]"
     },
     "metadata": {}
    },
    {
     "output_type": "display_data",
     "data": {
      "text/plain": "     #        Name  Type 1  Type 2   HP  Attack  Defense  Sp. Atk  Sp. Def  \\\n11  12   Blastoise   Water     NaN   79      83      100       85      105   \n32  33   Sandshrew  Ground     NaN   50      75       85       20       30   \n45  46  Wigglytuff  Normal   Fairy  140      70       45       85       50   \n65  66     Poliwag   Water     NaN   40      50       40       40       40   \n77  78  Victreebel   Grass  Poison   80     105       65      100       70   \n\n    Speed  Generation  Legendary  \n11     78           1      False  \n32     40           1      False  \n45     45           1      False  \n65     90           1      False  \n77     70           1      False  ",
      "text/html": "<div>\n<style scoped>\n    .dataframe tbody tr th:only-of-type {\n        vertical-align: middle;\n    }\n\n    .dataframe tbody tr th {\n        vertical-align: top;\n    }\n\n    .dataframe thead th {\n        text-align: right;\n    }\n</style>\n<table border=\"1\" class=\"dataframe\">\n  <thead>\n    <tr style=\"text-align: right;\">\n      <th></th>\n      <th>#</th>\n      <th>Name</th>\n      <th>Type 1</th>\n      <th>Type 2</th>\n      <th>HP</th>\n      <th>Attack</th>\n      <th>Defense</th>\n      <th>Sp. Atk</th>\n      <th>Sp. Def</th>\n      <th>Speed</th>\n      <th>Generation</th>\n      <th>Legendary</th>\n    </tr>\n  </thead>\n  <tbody>\n    <tr>\n      <th>11</th>\n      <td>12</td>\n      <td>Blastoise</td>\n      <td>Water</td>\n      <td>NaN</td>\n      <td>79</td>\n      <td>83</td>\n      <td>100</td>\n      <td>85</td>\n      <td>105</td>\n      <td>78</td>\n      <td>1</td>\n      <td>False</td>\n    </tr>\n    <tr>\n      <th>32</th>\n      <td>33</td>\n      <td>Sandshrew</td>\n      <td>Ground</td>\n      <td>NaN</td>\n      <td>50</td>\n      <td>75</td>\n      <td>85</td>\n      <td>20</td>\n      <td>30</td>\n      <td>40</td>\n      <td>1</td>\n      <td>False</td>\n    </tr>\n    <tr>\n      <th>45</th>\n      <td>46</td>\n      <td>Wigglytuff</td>\n      <td>Normal</td>\n      <td>Fairy</td>\n      <td>140</td>\n      <td>70</td>\n      <td>45</td>\n      <td>85</td>\n      <td>50</td>\n      <td>45</td>\n      <td>1</td>\n      <td>False</td>\n    </tr>\n    <tr>\n      <th>65</th>\n      <td>66</td>\n      <td>Poliwag</td>\n      <td>Water</td>\n      <td>NaN</td>\n      <td>40</td>\n      <td>50</td>\n      <td>40</td>\n      <td>40</td>\n      <td>40</td>\n      <td>90</td>\n      <td>1</td>\n      <td>False</td>\n    </tr>\n    <tr>\n      <th>77</th>\n      <td>78</td>\n      <td>Victreebel</td>\n      <td>Grass</td>\n      <td>Poison</td>\n      <td>80</td>\n      <td>105</td>\n      <td>65</td>\n      <td>100</td>\n      <td>70</td>\n      <td>70</td>\n      <td>1</td>\n      <td>False</td>\n    </tr>\n  </tbody>\n</table>\n</div>"
     },
     "metadata": {}
    }
   ],
   "source": [
    "# Pokemon that did not win or lose (these pokemon did not compete)\n",
    "ids = [x for x in all_pokemon if x not in winners and x not in losers]\n",
    "display(ids, pokemon[pokemon['#'].isin(ids)].head())"
   ]
  },
  {
   "cell_type": "code",
   "execution_count": 26,
   "metadata": {},
   "outputs": [],
   "source": [
    "# Let's drop those pokemon, they won't provide insight for our analysis\n",
    "pokemon = pokemon[~pokemon['#'].isin(ids)]"
   ]
  },
  {
   "cell_type": "code",
   "execution_count": 27,
   "metadata": {},
   "outputs": [
    {
     "output_type": "execute_result",
     "data": {
      "text/plain": [
       "       #     Name Type 1 Type 2  HP  Attack  Defense  Sp. Atk  Sp. Def  Speed  \\\n",
       "230  231  Shuckle    Bug   Rock  20      10      230       10      230      5   \n",
       "\n",
       "     Generation  Legendary  \n",
       "230           2      False  "
      ],
      "text/html": "<div>\n<style scoped>\n    .dataframe tbody tr th:only-of-type {\n        vertical-align: middle;\n    }\n\n    .dataframe tbody tr th {\n        vertical-align: top;\n    }\n\n    .dataframe thead th {\n        text-align: right;\n    }\n</style>\n<table border=\"1\" class=\"dataframe\">\n  <thead>\n    <tr style=\"text-align: right;\">\n      <th></th>\n      <th>#</th>\n      <th>Name</th>\n      <th>Type 1</th>\n      <th>Type 2</th>\n      <th>HP</th>\n      <th>Attack</th>\n      <th>Defense</th>\n      <th>Sp. Atk</th>\n      <th>Sp. Def</th>\n      <th>Speed</th>\n      <th>Generation</th>\n      <th>Legendary</th>\n    </tr>\n  </thead>\n  <tbody>\n    <tr>\n      <th>230</th>\n      <td>231</td>\n      <td>Shuckle</td>\n      <td>Bug</td>\n      <td>Rock</td>\n      <td>20</td>\n      <td>10</td>\n      <td>230</td>\n      <td>10</td>\n      <td>230</td>\n      <td>5</td>\n      <td>2</td>\n      <td>False</td>\n    </tr>\n  </tbody>\n</table>\n</div>"
     },
     "metadata": {},
     "execution_count": 27
    }
   ],
   "source": [
    "# Pokemon with no wins\n",
    "worst_pokemon = [x for x in pokemon['#'] if x in losers and x not in winners][0]\n",
    "pokemon[pokemon['#'] == worst_pokemon]"
   ]
  },
  {
   "cell_type": "code",
   "execution_count": 29,
   "metadata": {},
   "outputs": [
    {
     "output_type": "stream",
     "name": "stdout",
     "text": [
      "Total Pokemon: 784\nUnqiue Winners: 783\nUnqiue Losers: 784\n"
     ]
    }
   ],
   "source": [
    "# Get # of unique pokemon, winners, losers\n",
    "all_pokemon = np.unique(pokemon['#'])\n",
    "winners = np.unique(combats['Winner'])\n",
    "losers = np.unique(combats['Loser'])\n",
    "\n",
    "# Verify that each pokemon has at least one loss and one win\n",
    "print(f\"Total Pokemon: {len(all_pokemon)}\")\n",
    "print(f\"Unqiue Winners: {len(winners)}\")\n",
    "print(f\"Unqiue Losers: {len(losers)}\")"
   ]
  },
  {
   "source": [
    "## Data Exploration\n",
    "\n",
    "<p>We know there are 784 competitors with one Pokemon who had 0 wins (Sucks to be a Shuckle). We will now explore the data to try and find any relationships. Is there a clear pattern to which Pokemon will win? Is it a strict game of Rock-Paper-Scissors? Does having a higher speed stat give you an advantage?\n",
    "\n",
    "We will start by generating the win percentage for each Pokemon.\n",
    "</p>"
   ],
   "cell_type": "markdown",
   "metadata": {}
  },
  {
   "cell_type": "code",
   "execution_count": 30,
   "metadata": {},
   "outputs": [],
   "source": [
    "# Generate win and loss counts for each pokemon\n",
    "wins = combats['Winner'].value_counts().sort_index().rename('Wins')\n",
    "loss = combats['Loser'].value_counts().sort_index().rename('Loss')\n",
    "\n",
    "# Add 0 to wins for Shuckle\n",
    "wins[worst_pokemon] = 0"
   ]
  },
  {
   "cell_type": "code",
   "execution_count": 31,
   "metadata": {},
   "outputs": [
    {
     "output_type": "execute_result",
     "data": {
      "text/plain": [
       "   Wins  Loss  win_loss  win_pct\n",
       "1    37    96  0.278195     27.8\n",
       "2    46    75  0.380165     38.0\n",
       "3    89    43  0.674242     67.4\n",
       "4    70    55  0.560000     56.0\n",
       "5    55    57  0.491071     49.1"
      ],
      "text/html": "<div>\n<style scoped>\n    .dataframe tbody tr th:only-of-type {\n        vertical-align: middle;\n    }\n\n    .dataframe tbody tr th {\n        vertical-align: top;\n    }\n\n    .dataframe thead th {\n        text-align: right;\n    }\n</style>\n<table border=\"1\" class=\"dataframe\">\n  <thead>\n    <tr style=\"text-align: right;\">\n      <th></th>\n      <th>Wins</th>\n      <th>Loss</th>\n      <th>win_loss</th>\n      <th>win_pct</th>\n    </tr>\n  </thead>\n  <tbody>\n    <tr>\n      <th>1</th>\n      <td>37</td>\n      <td>96</td>\n      <td>0.278195</td>\n      <td>27.8</td>\n    </tr>\n    <tr>\n      <th>2</th>\n      <td>46</td>\n      <td>75</td>\n      <td>0.380165</td>\n      <td>38.0</td>\n    </tr>\n    <tr>\n      <th>3</th>\n      <td>89</td>\n      <td>43</td>\n      <td>0.674242</td>\n      <td>67.4</td>\n    </tr>\n    <tr>\n      <th>4</th>\n      <td>70</td>\n      <td>55</td>\n      <td>0.560000</td>\n      <td>56.0</td>\n    </tr>\n    <tr>\n      <th>5</th>\n      <td>55</td>\n      <td>57</td>\n      <td>0.491071</td>\n      <td>49.1</td>\n    </tr>\n  </tbody>\n</table>\n</div>"
     },
     "metadata": {},
     "execution_count": 31
    }
   ],
   "source": [
    "# Calculate win percentage\n",
    "res = pd.concat([wins, loss], axis=1)\n",
    "res['win_loss'] = res['Wins'] / (res['Wins'] + res['Loss'])\n",
    "res['win_pct']  = (res['win_loss'] * 100).round(1)\n",
    "res.head()"
   ]
  },
  {
   "cell_type": "code",
   "execution_count": 32,
   "metadata": {},
   "outputs": [],
   "source": [
    "# Join with pokemon table\n",
    "pokemon = pokemon.join(res, on='#')"
   ]
  },
  {
   "cell_type": "code",
   "execution_count": 33,
   "metadata": {},
   "outputs": [
    {
     "output_type": "execute_result",
     "data": {
      "text/plain": [
       "                       Name  win_pct\n",
       "154         Mega Aerodactyl     98.4\n",
       "512                 Weavile     97.5\n",
       "703  Tornadus Therian Forme     96.8\n",
       "19            Mega Beedrill     96.6\n",
       "153              Aerodactyl     96.5"
      ],
      "text/html": "<div>\n<style scoped>\n    .dataframe tbody tr th:only-of-type {\n        vertical-align: middle;\n    }\n\n    .dataframe tbody tr th {\n        vertical-align: top;\n    }\n\n    .dataframe thead th {\n        text-align: right;\n    }\n</style>\n<table border=\"1\" class=\"dataframe\">\n  <thead>\n    <tr style=\"text-align: right;\">\n      <th></th>\n      <th>Name</th>\n      <th>win_pct</th>\n    </tr>\n  </thead>\n  <tbody>\n    <tr>\n      <th>154</th>\n      <td>Mega Aerodactyl</td>\n      <td>98.4</td>\n    </tr>\n    <tr>\n      <th>512</th>\n      <td>Weavile</td>\n      <td>97.5</td>\n    </tr>\n    <tr>\n      <th>703</th>\n      <td>Tornadus Therian Forme</td>\n      <td>96.8</td>\n    </tr>\n    <tr>\n      <th>19</th>\n      <td>Mega Beedrill</td>\n      <td>96.6</td>\n    </tr>\n    <tr>\n      <th>153</th>\n      <td>Aerodactyl</td>\n      <td>96.5</td>\n    </tr>\n  </tbody>\n</table>\n</div>"
     },
     "metadata": {},
     "execution_count": 33
    }
   ],
   "source": [
    "# Top 50 Pokemon by win percentage\n",
    "top50 = pokemon.sort_values(by='win_pct', ascending=False).head(50)\n",
    "top50[['Name', 'win_pct']].head()"
   ]
  },
  {
   "cell_type": "code",
   "execution_count": 34,
   "metadata": {},
   "outputs": [
    {
     "output_type": "execute_result",
     "data": {
      "text/plain": [
       "        Name  win_pct\n",
       "230  Shuckle      0.0\n",
       "289  Silcoon      2.2\n",
       "189   Togepi      2.5\n",
       "638  Solosis      3.1\n",
       "236   Slugma      3.3"
      ],
      "text/html": "<div>\n<style scoped>\n    .dataframe tbody tr th:only-of-type {\n        vertical-align: middle;\n    }\n\n    .dataframe tbody tr th {\n        vertical-align: top;\n    }\n\n    .dataframe thead th {\n        text-align: right;\n    }\n</style>\n<table border=\"1\" class=\"dataframe\">\n  <thead>\n    <tr style=\"text-align: right;\">\n      <th></th>\n      <th>Name</th>\n      <th>win_pct</th>\n    </tr>\n  </thead>\n  <tbody>\n    <tr>\n      <th>230</th>\n      <td>Shuckle</td>\n      <td>0.0</td>\n    </tr>\n    <tr>\n      <th>289</th>\n      <td>Silcoon</td>\n      <td>2.2</td>\n    </tr>\n    <tr>\n      <th>189</th>\n      <td>Togepi</td>\n      <td>2.5</td>\n    </tr>\n    <tr>\n      <th>638</th>\n      <td>Solosis</td>\n      <td>3.1</td>\n    </tr>\n    <tr>\n      <th>236</th>\n      <td>Slugma</td>\n      <td>3.3</td>\n    </tr>\n  </tbody>\n</table>\n</div>"
     },
     "metadata": {},
     "execution_count": 34
    }
   ],
   "source": [
    "# Bottom 50 Pokemon by win percentage\n",
    "bot50 = pokemon.sort_values(by='win_pct', ascending=True).head(50)\n",
    "bot50[['Name', 'win_pct']].head()"
   ]
  },
  {
   "cell_type": "code",
   "execution_count": 35,
   "metadata": {},
   "outputs": [
    {
     "output_type": "execute_result",
     "data": {
      "text/plain": [
       "                freq\n",
       "Type 1  Type 2      \n",
       "Normal  NaN       59\n",
       "Water   NaN       57\n",
       "Psychic NaN       38\n",
       "Grass   NaN       31\n",
       "Fire    NaN       28"
      ],
      "text/html": "<div>\n<style scoped>\n    .dataframe tbody tr th:only-of-type {\n        vertical-align: middle;\n    }\n\n    .dataframe tbody tr th {\n        vertical-align: top;\n    }\n\n    .dataframe thead th {\n        text-align: right;\n    }\n</style>\n<table border=\"1\" class=\"dataframe\">\n  <thead>\n    <tr style=\"text-align: right;\">\n      <th></th>\n      <th></th>\n      <th>freq</th>\n    </tr>\n    <tr>\n      <th>Type 1</th>\n      <th>Type 2</th>\n      <th></th>\n    </tr>\n  </thead>\n  <tbody>\n    <tr>\n      <th>Normal</th>\n      <th>NaN</th>\n      <td>59</td>\n    </tr>\n    <tr>\n      <th>Water</th>\n      <th>NaN</th>\n      <td>57</td>\n    </tr>\n    <tr>\n      <th>Psychic</th>\n      <th>NaN</th>\n      <td>38</td>\n    </tr>\n    <tr>\n      <th>Grass</th>\n      <th>NaN</th>\n      <td>31</td>\n    </tr>\n    <tr>\n      <th>Fire</th>\n      <th>NaN</th>\n      <td>28</td>\n    </tr>\n  </tbody>\n</table>\n</div>"
     },
     "metadata": {},
     "execution_count": 35
    }
   ],
   "source": [
    "# Type frequency\n",
    "type_freq = pokemon.groupby(by=['Type 1', 'Type 2'], dropna=False)['Name'].count().rename('freq')\n",
    "type_freq = type_freq.sort_values(ascending=False)\n",
    "pd.DataFrame(type_freq).head()"
   ]
  },
  {
   "cell_type": "code",
   "execution_count": 36,
   "metadata": {},
   "outputs": [
    {
     "output_type": "execute_result",
     "data": {
      "text/plain": [
       "     Type 1  Type 2  count\n",
       "0   Psychic     NaN      6\n",
       "1    Normal     NaN      4\n",
       "2  Electric     NaN      4\n",
       "3      Dark     NaN      3\n",
       "4      Rock  Flying      3"
      ],
      "text/html": "<div>\n<style scoped>\n    .dataframe tbody tr th:only-of-type {\n        vertical-align: middle;\n    }\n\n    .dataframe tbody tr th {\n        vertical-align: top;\n    }\n\n    .dataframe thead th {\n        text-align: right;\n    }\n</style>\n<table border=\"1\" class=\"dataframe\">\n  <thead>\n    <tr style=\"text-align: right;\">\n      <th></th>\n      <th>Type 1</th>\n      <th>Type 2</th>\n      <th>count</th>\n    </tr>\n  </thead>\n  <tbody>\n    <tr>\n      <th>0</th>\n      <td>Psychic</td>\n      <td>NaN</td>\n      <td>6</td>\n    </tr>\n    <tr>\n      <th>1</th>\n      <td>Normal</td>\n      <td>NaN</td>\n      <td>4</td>\n    </tr>\n    <tr>\n      <th>2</th>\n      <td>Electric</td>\n      <td>NaN</td>\n      <td>4</td>\n    </tr>\n    <tr>\n      <th>3</th>\n      <td>Dark</td>\n      <td>NaN</td>\n      <td>3</td>\n    </tr>\n    <tr>\n      <th>4</th>\n      <td>Rock</td>\n      <td>Flying</td>\n      <td>3</td>\n    </tr>\n  </tbody>\n</table>\n</div>"
     },
     "metadata": {},
     "execution_count": 36
    }
   ],
   "source": [
    "# Top 50 pokemon Type frequency\n",
    "type_freq = top50.groupby(by=['Type 1', 'Type 2'], dropna=False)['Name'].count().rename('count').reset_index()\n",
    "type_freq = type_freq.sort_values(by='count', ascending=False).reset_index(drop=True)\n",
    "type_freq.head()"
   ]
  },
  {
   "cell_type": "code",
   "execution_count": 37,
   "metadata": {},
   "outputs": [
    {
     "output_type": "execute_result",
     "data": {
      "text/plain": [
       "    Type 1 Type 2  count\n",
       "0      Bug    NaN      8\n",
       "1  Psychic    NaN      6\n",
       "2    Grass    NaN      4\n",
       "3   Normal    NaN      4\n",
       "4   Normal  Fairy      3"
      ],
      "text/html": "<div>\n<style scoped>\n    .dataframe tbody tr th:only-of-type {\n        vertical-align: middle;\n    }\n\n    .dataframe tbody tr th {\n        vertical-align: top;\n    }\n\n    .dataframe thead th {\n        text-align: right;\n    }\n</style>\n<table border=\"1\" class=\"dataframe\">\n  <thead>\n    <tr style=\"text-align: right;\">\n      <th></th>\n      <th>Type 1</th>\n      <th>Type 2</th>\n      <th>count</th>\n    </tr>\n  </thead>\n  <tbody>\n    <tr>\n      <th>0</th>\n      <td>Bug</td>\n      <td>NaN</td>\n      <td>8</td>\n    </tr>\n    <tr>\n      <th>1</th>\n      <td>Psychic</td>\n      <td>NaN</td>\n      <td>6</td>\n    </tr>\n    <tr>\n      <th>2</th>\n      <td>Grass</td>\n      <td>NaN</td>\n      <td>4</td>\n    </tr>\n    <tr>\n      <th>3</th>\n      <td>Normal</td>\n      <td>NaN</td>\n      <td>4</td>\n    </tr>\n    <tr>\n      <th>4</th>\n      <td>Normal</td>\n      <td>Fairy</td>\n      <td>3</td>\n    </tr>\n  </tbody>\n</table>\n</div>"
     },
     "metadata": {},
     "execution_count": 37
    }
   ],
   "source": [
    "# Bottom 50 pokemon Type frequency\n",
    "type_freq = bot50.groupby(by=['Type 1', 'Type 2'], dropna=False)['Name'].count().rename('count').reset_index()\n",
    "type_freq = type_freq.sort_values(by='count', ascending=False).reset_index(drop=True)\n",
    "type_freq.head()"
   ]
  },
  {
   "source": [
    "### Whats going on here?\n",
    "\n",
    "<p>\n",
    "We just generated a lot of tables. Lets break it down. We first figured out each Pokemons win rate. Turns out Mega Aerodactyle has the highest win rate at 98%. \n",
    "\n",
    "We now want to see if any of the top 50 or bottom 50 have any typings in common. The first table uses the dataset as a whole for the control, the most common type seems to be Normal with 59 Pokemon; followed by water. \n",
    "\n",
    "The top 50 has 6 Pyschics as its most frequent type while the bottom 50 has Bug as its most frequent type. Not sure how much we can conclude from this information since both tables have psychic and Normal in them. But there does seem to be a slight difference in typings.\n",
    "</p>\n",
    "\n",
    "</p>\n",
    "Next we will visualize the data to see how the Pokemon stats relate to each other and to try and solidify any relationships. We will split the data by generation, as it will be useful for our analysis moving forward.\n",
    "<p>"
   ],
   "cell_type": "markdown",
   "metadata": {}
  },
  {
   "cell_type": "code",
   "execution_count": 38,
   "metadata": {},
   "outputs": [
    {
     "output_type": "execute_result",
     "data": {
      "text/plain": [
       "   #           Name Type 1  Type 2  HP  Attack  Defense  Sp. Atk  Sp. Def  \\\n",
       "0  1      Bulbasaur  Grass  Poison  45      49       49       65       65   \n",
       "1  2        Ivysaur  Grass  Poison  60      62       63       80       80   \n",
       "2  3       Venusaur  Grass  Poison  80      82       83      100      100   \n",
       "3  4  Mega Venusaur  Grass  Poison  80     100      123      122      120   \n",
       "4  5     Charmander   Fire     NaN  39      52       43       60       50   \n",
       "\n",
       "   Speed  Generation  Legendary  Wins  Loss  win_loss  win_pct  \n",
       "0     45           1      False    37    96  0.278195     27.8  \n",
       "1     60           1      False    46    75  0.380165     38.0  \n",
       "2     80           1      False    89    43  0.674242     67.4  \n",
       "3     80           1      False    70    55  0.560000     56.0  \n",
       "4     65           1      False    55    57  0.491071     49.1  "
      ],
      "text/html": "<div>\n<style scoped>\n    .dataframe tbody tr th:only-of-type {\n        vertical-align: middle;\n    }\n\n    .dataframe tbody tr th {\n        vertical-align: top;\n    }\n\n    .dataframe thead th {\n        text-align: right;\n    }\n</style>\n<table border=\"1\" class=\"dataframe\">\n  <thead>\n    <tr style=\"text-align: right;\">\n      <th></th>\n      <th>#</th>\n      <th>Name</th>\n      <th>Type 1</th>\n      <th>Type 2</th>\n      <th>HP</th>\n      <th>Attack</th>\n      <th>Defense</th>\n      <th>Sp. Atk</th>\n      <th>Sp. Def</th>\n      <th>Speed</th>\n      <th>Generation</th>\n      <th>Legendary</th>\n      <th>Wins</th>\n      <th>Loss</th>\n      <th>win_loss</th>\n      <th>win_pct</th>\n    </tr>\n  </thead>\n  <tbody>\n    <tr>\n      <th>0</th>\n      <td>1</td>\n      <td>Bulbasaur</td>\n      <td>Grass</td>\n      <td>Poison</td>\n      <td>45</td>\n      <td>49</td>\n      <td>49</td>\n      <td>65</td>\n      <td>65</td>\n      <td>45</td>\n      <td>1</td>\n      <td>False</td>\n      <td>37</td>\n      <td>96</td>\n      <td>0.278195</td>\n      <td>27.8</td>\n    </tr>\n    <tr>\n      <th>1</th>\n      <td>2</td>\n      <td>Ivysaur</td>\n      <td>Grass</td>\n      <td>Poison</td>\n      <td>60</td>\n      <td>62</td>\n      <td>63</td>\n      <td>80</td>\n      <td>80</td>\n      <td>60</td>\n      <td>1</td>\n      <td>False</td>\n      <td>46</td>\n      <td>75</td>\n      <td>0.380165</td>\n      <td>38.0</td>\n    </tr>\n    <tr>\n      <th>2</th>\n      <td>3</td>\n      <td>Venusaur</td>\n      <td>Grass</td>\n      <td>Poison</td>\n      <td>80</td>\n      <td>82</td>\n      <td>83</td>\n      <td>100</td>\n      <td>100</td>\n      <td>80</td>\n      <td>1</td>\n      <td>False</td>\n      <td>89</td>\n      <td>43</td>\n      <td>0.674242</td>\n      <td>67.4</td>\n    </tr>\n    <tr>\n      <th>3</th>\n      <td>4</td>\n      <td>Mega Venusaur</td>\n      <td>Grass</td>\n      <td>Poison</td>\n      <td>80</td>\n      <td>100</td>\n      <td>123</td>\n      <td>122</td>\n      <td>120</td>\n      <td>80</td>\n      <td>1</td>\n      <td>False</td>\n      <td>70</td>\n      <td>55</td>\n      <td>0.560000</td>\n      <td>56.0</td>\n    </tr>\n    <tr>\n      <th>4</th>\n      <td>5</td>\n      <td>Charmander</td>\n      <td>Fire</td>\n      <td>NaN</td>\n      <td>39</td>\n      <td>52</td>\n      <td>43</td>\n      <td>60</td>\n      <td>50</td>\n      <td>65</td>\n      <td>1</td>\n      <td>False</td>\n      <td>55</td>\n      <td>57</td>\n      <td>0.491071</td>\n      <td>49.1</td>\n    </tr>\n  </tbody>\n</table>\n</div>"
     },
     "metadata": {},
     "execution_count": 38
    }
   ],
   "source": [
    "# Split data by generation\n",
    "gen = {g:df for g, df in pokemon.groupby(by='Generation')}\n",
    "gen[1].head()"
   ]
  },
  {
   "source": [
    "## Data Visualization"
   ],
   "cell_type": "markdown",
   "metadata": {}
  }
 ]
}